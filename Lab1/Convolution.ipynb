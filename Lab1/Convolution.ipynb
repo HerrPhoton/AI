{
 "cells": [
  {
   "cell_type": "code",
   "execution_count": null,
   "metadata": {},
   "outputs": [],
   "source": [
    "import torch.nn as nn\n",
    "import torch"
   ]
  },
  {
   "attachments": {},
   "cell_type": "markdown",
   "metadata": {},
   "source": [
    "# AvgPool через свертку"
   ]
  },
  {
   "cell_type": "code",
   "execution_count": null,
   "metadata": {},
   "outputs": [],
   "source": [
    "batch_size = 1\n",
    "channels = 2\n",
    "in_features = 4\n",
    "\n",
    "kernel = in_features\n",
    "stride = kernel\n",
    "padding = 0\n",
    "\n",
    "\n",
    "with torch.no_grad():\n",
    "    batch = torch.rand(batch_size, channels, in_features, in_features)\n",
    "    print('Input data:')\n",
    "    print(batch, '\\n')\n",
    "\n",
    "    print('Shape:')\n",
    "    print(batch.shape, '\\n')\n",
    "\n",
    "    weights = torch.full((channels, 1, kernel, kernel), 1 / kernel ** 2)\n",
    "    \n",
    "    print('Weights:')\n",
    "    print(weights, '\\n')\n",
    "\n",
    "    print('Shape:')\n",
    "    print(weights.shape, '\\n')\n",
    "\n",
    "    avg_pool = nn.AvgPool2d(kernel, stride = stride, padding = padding)\n",
    "\n",
    "    conv = nn.Conv2d(channels, channels, kernel_size = kernel, bias = False, groups = channels, stride = stride, padding = padding)\n",
    "    conv.weight = nn.Parameter(weights)\n",
    "\n",
    "print('Average pooling:')\n",
    "print(avg_pool(batch), '\\n')\n",
    "\n",
    "print('Shape:')\n",
    "print(avg_pool(batch).shape, '\\n')\n",
    "\n",
    "print('Сonvolution:')\n",
    "print(conv(batch), '\\n')\n",
    "\n",
    "print('Shape:')\n",
    "print(conv(batch).shape)"
   ]
  },
  {
   "attachments": {},
   "cell_type": "markdown",
   "metadata": {},
   "source": [
    "# FC через свертку"
   ]
  },
  {
   "cell_type": "code",
   "execution_count": null,
   "metadata": {},
   "outputs": [],
   "source": [
    "#batch_size = 1\n",
    "channels = 1\n",
    "\n",
    "in_features = 3\n",
    "out_features = 3\n",
    "\n",
    "with torch.no_grad():\n",
    "\n",
    "    #batch = torch.rand(batch_size, channels, in_features)\n",
    "    batch = torch.rand(channels, in_features)\n",
    "\n",
    "    print('Input data:')\n",
    "    print(batch, '\\n')\n",
    "\n",
    "    print('Shape:')\n",
    "    print(batch.shape, '\\n')\n",
    "\n",
    "    fc = nn.Linear(in_features, out_features, bias = False)\n",
    "\n",
    "    print('FC weights:')\n",
    "    print(fc.weight, '\\n')\n",
    "\n",
    "    conv = nn.Conv1d(channels, channels, kernel_size = out_features * in_features, stride = in_features, padding = in_features * (out_features - 1), groups = channels, bias = False)\n",
    "\n",
    "    weights = fc.weight.flip(0)\n",
    "    weights = weights.flatten()\n",
    "    weights = weights.repeat(1, channels)\n",
    "    weights = weights.reshape(channels, 1, out_features * in_features)\n",
    "\n",
    "    conv.weight = nn.Parameter(weights)\n",
    "\n",
    "print('FC:')\n",
    "print(fc(batch), '\\n')\n",
    "\n",
    "print('Сonvolution:')\n",
    "print(conv(batch), '\\n')"
   ]
  }
 ],
 "metadata": {
  "kernelspec": {
   "display_name": "Python 3",
   "language": "python",
   "name": "python3"
  },
  "language_info": {
   "name": "python",
   "version": "3.10.7"
  },
  "orig_nbformat": 4
 },
 "nbformat": 4,
 "nbformat_minor": 2
}
